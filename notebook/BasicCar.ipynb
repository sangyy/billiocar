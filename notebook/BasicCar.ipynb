{
 "cells": [
  {
   "cell_type": "markdown",
   "metadata": {},
   "source": [
    "## Perparing"
   ]
  },
  {
   "cell_type": "code",
   "execution_count": null,
   "metadata": {},
   "outputs": [],
   "source": [
    "from ipywidgets import HBox, VBox"
   ]
  },
  {
   "cell_type": "code",
   "execution_count": null,
   "metadata": {},
   "outputs": [],
   "source": [
    "#Checking current working address\n",
    "import os\n",
    "print(os.getcwd())"
   ]
  },
  {
   "cell_type": "code",
   "execution_count": null,
   "metadata": {},
   "outputs": [],
   "source": [
    "#Changing working address to import cam_pantilt\n",
    "os.chdir('../pantilt')\n",
    "print(os.getcwd())\n",
    "from cam_pantilt import CamPanTilt"
   ]
  },
  {
   "cell_type": "code",
   "execution_count": null,
   "metadata": {},
   "outputs": [],
   "source": [
    "#Changing working address to import billiocar\n",
    "os.chdir('..')\n",
    "print(os.getcwd())\n",
    "from billiocar import Basic"
   ]
  },
  {
   "cell_type": "markdown",
   "metadata": {},
   "source": [
    "## Loading the Car"
   ]
  },
  {
   "cell_type": "code",
   "execution_count": null,
   "metadata": {},
   "outputs": [],
   "source": [
    "car = Basic()"
   ]
  },
  {
   "cell_type": "code",
   "execution_count": null,
   "metadata": {},
   "outputs": [],
   "source": [
    "car_control = car.play()"
   ]
  },
  {
   "cell_type": "markdown",
   "metadata": {},
   "source": [
    "## Loading the Camera Pan Tilt"
   ]
  },
  {
   "cell_type": "code",
   "execution_count": null,
   "metadata": {},
   "outputs": [],
   "source": [
    "pt = CamPanTilt()"
   ]
  },
  {
   "cell_type": "code",
   "execution_count": null,
   "metadata": {},
   "outputs": [],
   "source": [
    "pantilt_control = pt.play()"
   ]
  },
  {
   "cell_type": "code",
   "execution_count": null,
   "metadata": {},
   "outputs": [],
   "source": [
    "cam_display = pt.cam()"
   ]
  },
  {
   "cell_type": "markdown",
   "metadata": {},
   "source": [
    "## Display the Control Panel"
   ]
  },
  {
   "cell_type": "code",
   "execution_count": null,
   "metadata": {},
   "outputs": [],
   "source": [
    "display(\n",
    "        HBox([car_control, cam_display]),\n",
    "        pantilt_control\n",
    "       )"
   ]
  },
  {
   "cell_type": "code",
   "execution_count": null,
   "metadata": {},
   "outputs": [],
   "source": [
    "# Unlink streaming for video\n",
    "# pt.camera_link.unlink()\n",
    "\n",
    "# Relink streaming for video\n",
    "# pt.camera_link.link()"
   ]
  },
  {
   "cell_type": "markdown",
   "metadata": {},
   "source": [
    "## Adding Joystick PS4 for Controling"
   ]
  },
  {
   "cell_type": "code",
   "execution_count": null,
   "metadata": {},
   "outputs": [],
   "source": [
    "import ipywidgets.widgets as widgets\n",
    "controller = widgets.Controller(index=0)\n",
    "display(controller)"
   ]
  },
  {
   "cell_type": "code",
   "execution_count": null,
   "metadata": {},
   "outputs": [],
   "source": [
    "m_steer, m_gear = 0, 0\n",
    "\n",
    "def car_axes_rl(change):\n",
    "    global m_gear, m_steer\n",
    "    m_steer = change['new']\n",
    "    car.car.drive(steer=m_steer, gear=m_gear)\n",
    "\n",
    "def car_axes_fb(change):\n",
    "    global m_gear, m_steer\n",
    "    m_gear = - change['new']\n",
    "    car.car.drive(steer=m_steer, gear=m_gear)"
   ]
  },
  {
   "cell_type": "code",
   "execution_count": null,
   "metadata": {},
   "outputs": [],
   "source": [
    "# Linking js to car movement control\n",
    "controller.axes[0].observe(car_axes_rl, names=['value'])\n",
    "controller.axes[3].observe(car_axes_fb, names=['value'])"
   ]
  },
  {
   "cell_type": "code",
   "execution_count": null,
   "metadata": {},
   "outputs": [],
   "source": [
    "# Linking js to pantilt movement control\n",
    "controller.buttons[12].observe(lambda x: pt.pt.go_up(), names='value') # Up\n",
    "controller.buttons[13].observe(lambda x: pt.pt.go_down(), names='value') # Down\n",
    "controller.buttons[14].observe(lambda x: pt.pt.go_left(), names='value') # Left\n",
    "controller.buttons[15].observe(lambda x: pt.pt.go_right(), names='value') # Right\n",
    "\n",
    "controller.buttons[3].observe(lambda x: pt.pt.far_up(), names='value') # Far Up\n",
    "controller.buttons[0].observe(lambda x: pt.pt.far_down(), names='value') # Far Down\n",
    "controller.buttons[2].observe(lambda x: pt.pt.far_left(), names='value') # Far Left\n",
    "controller.buttons[1].observe(lambda x: pt.pt.far_right(), names='value') # Far Right\n",
    "\n",
    "controller.buttons[8].observe(lambda x: pt.pt.reset(), names='value')\n",
    "controller.buttons[9].observe(lambda x: pt.pt.change_reset(), names='value')\n",
    "\n",
    "controller.buttons[5].observe(lambda x: pt.save_snap(), names='value')"
   ]
  }
 ],
 "metadata": {
  "kernelspec": {
   "display_name": "Python 3",
   "language": "python",
   "name": "python3"
  },
  "language_info": {
   "codemirror_mode": {
    "name": "ipython",
    "version": 3
   },
   "file_extension": ".py",
   "mimetype": "text/x-python",
   "name": "python",
   "nbconvert_exporter": "python",
   "pygments_lexer": "ipython3",
   "version": "3.6.9"
  }
 },
 "nbformat": 4,
 "nbformat_minor": 4
}
